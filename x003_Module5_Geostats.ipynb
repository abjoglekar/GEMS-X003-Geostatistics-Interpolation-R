{
 "cells": [
  {
   "cell_type": "markdown",
   "id": "0489c145-4c47-4a68-b7b3-aeb42af8961f",
   "metadata": {},
   "source": [
    "<img src=\"images/GEMS Informatics Learning.png\" width=600 alt=\"GEMS Learning Logo\" title=\"GEMS Learning\" />"
   ]
  },
  {
   "cell_type": "markdown",
   "id": "f7357b28-62d0-4dae-96fe-2602a699db46",
   "metadata": {
    "tags": []
   },
   "source": [
    "# **Geostatistics and Interpolation in R**\n",
    "\n",
    "**Instructors:**  \n",
    "Ali Joglekar, University of Minnesota (joglekar@umn.edu)  \n",
    "Yuan Chai, University of Minnesota (chaix026@umn.edu)  "
   ]
  },
  {
   "cell_type": "markdown",
   "id": "56ca1d82-9958-47d7-b6e7-4f45f46dc4c1",
   "metadata": {
    "tags": []
   },
   "source": [
    "---\n",
    "\n",
    "## Method of Delivery\n",
    "- Workshop text, images and R code are all contained within a Jupyter Notebook hosted on the GEMS Informatics Platform. You do not need to have R or RStudio installed on your machine to participate\n",
    "- All needed data and scripts are in the following github repo: [https://github.com/abjoglekar/GEMS-X003-Geostatistics-Interpolation-R](https://github.com/abjoglekar/GEMS-X003-Geostatistics-Interpolation-R.git)\n",
    "- A recording of the workshop will be posted on Canvas\n",
    "- Please download any desired materials, as we cannot guarantee access to the Canvas course beyond 3 months.  "
   ]
  },
  {
   "cell_type": "markdown",
   "id": "4f5a2dda-3e9f-47a8-9035-03d50af4fc8c",
   "metadata": {
    "tags": []
   },
   "source": [
    "## Module Outline\n",
    "- [Introduction to geostatistics](#Geostat)  \n",
    "- [Interpolation target area](#Target)\n",
    "    - [Exercise 1](#Ex1)\n",
    "- [Weighted average principal](#Wgts)  \n",
    "    - [Exercise 2](#Ex2)\n",
    "- [Kriging interpolation](#Kriging)  \n",
    "    - [Exercise 3](#Ex3)\n",
    "- [Automatic variogram fitting](#Autofit)  \n",
    "    - [Exercise 4](#Ex4)\n",
    "  "
   ]
  },
  {
   "cell_type": "markdown",
   "id": "0cc2e91f-9e60-4062-9a28-d6a31a931a26",
   "metadata": {
    "tags": []
   },
   "source": [
    "## Setup\n",
    "\n",
    "### Fetch Script & Data\n",
    "1. Login to GEMS Platform at [https://gems.agroinformatics.org/](https://gems.agroinformatics.org/)\n",
    "   GEMS Platform uses Globus to authenticate your account, so if your institution is already linked to Globus (for example, University of Minnesota and many other universities), you can search and select your institution from the list and use your institutional account to log into GEMS Platform. Alternatively, you can log in using Google or ORCID iD, or create your own Globus account to log in.\n",
    "   \n",
    "2. Once logged in, click `Analyze > JupyterLab` from the homepage\n",
    "\n",
    "3. Open a bash terminal by clicking ‘Terminal’ icon in the Launcher OR by clicking `File > New > Terminal` \n",
    "\n",
    "4. In bash terminal, create directories for this workshop\n",
    "\n",
    "    ```bash\n",
    "    mkdir classes   #if you don't already have this directory created\n",
    "    cd classes  \n",
    "    mkdir GEMSX003  #if you don't already have this directory created\n",
    "    cd GEMSX003\n",
    "    ```\n",
    "\n",
    "\n",
    "5. Clone repository for this class\n",
    "\n",
    "    ```bash\n",
    "    git clone https://github.com/abjoglekar/GEMS-X003-Geostatistics-Interpolation-R.git\n",
    "    ```\n",
    "  \n",
    "  \n",
    "### Load R Libraries"
   ]
  },
  {
   "cell_type": "code",
   "execution_count": 1,
   "id": "38e289a0-412a-48f1-b2a2-80cab36e3575",
   "metadata": {
    "tags": []
   },
   "outputs": [
    {
     "name": "stderr",
     "output_type": "stream",
     "text": [
      "Installing package into ‘/home/u01000010/r_libs’\n",
      "(as ‘lib’ is unspecified)\n",
      "\n",
      "also installing the dependencies ‘sf’, ‘sftime’\n",
      "\n",
      "\n",
      "Warning message in install.packages(package):\n",
      "“installation of package ‘sf’ had non-zero exit status”\n",
      "Warning message in install.packages(package):\n",
      "“installation of package ‘sftime’ had non-zero exit status”\n",
      "Warning message in install.packages(package):\n",
      "“installation of package ‘gstat’ had non-zero exit status”\n"
     ]
    },
    {
     "ename": "ERROR",
     "evalue": "Error in library(package, character.only = T, quietly = T, warn.conflicts = F): there is no package called ‘gstat’\n",
     "output_type": "error",
     "traceback": [
      "Error in library(package, character.only = T, quietly = T, warn.conflicts = F): there is no package called ‘gstat’\nTraceback:\n",
      "1. suppressPackageStartupMessages(library(package, character.only = T, \n .     quietly = T, warn.conflicts = F))",
      "2. withCallingHandlers(expr, packageStartupMessage = function(c) tryInvokeRestart(\"muffleMessage\"))",
      "3. library(package, character.only = T, quietly = T, warn.conflicts = F)"
     ]
    }
   ],
   "source": [
    "# Install and load packages needed for this workshop (\n",
    "\n",
    "packages_to_load <- c(\"gstat\", \"sf\", \"tmap\", \"stars\", \"sp\", \"lattice\", \"automap\")\n",
    "\n",
    "for ( package in packages_to_load ) {\n",
    "    # Check if package is already installed, if not, install and load the package\n",
    "    if (!require(package, character.only=T, quietly=T, warn.conflicts=F)) {\n",
    "        install.packages(package)\n",
    "        suppressPackageStartupMessages(library(package, character.only=T, quietly=T, warn.conflicts=F))\n",
    "    }\n",
    "}"
   ]
  },
  {
   "cell_type": "markdown",
   "id": "4f32529d-03ee-4764-b1b6-e313376a18ab",
   "metadata": {},
   "source": [
    "<details>\n",
    "    \n",
    "<summary><span style='color:Green'> Note: For your own work, once packages are installed, it is recommended to just use library() to load your packages  </span></summary>\n",
    "\n",
    "\n",
    "```r\n",
    "# General dataframe libraries\n",
    "library(rio)\n",
    "\n",
    "# Spatial data libraries\n",
    "library(sf)\n",
    "library(spData)\n",
    "\n",
    "# Plotting libraries\n",
    "library(tmap)\n",
    "```\n",
    "          \n",
    "</details>\n"
   ]
  },
  {
   "cell_type": "markdown",
   "id": "b548dfd6-a519-4bc0-a443-82d519b7f1b3",
   "metadata": {},
   "source": [
    "If you run into errors trying to install any packages, please refer to the [R troubleshooting.pdf](https://canvas.umn.edu/courses/343084/files/31161241?module_item_id=8966858) guide on Canvas."
   ]
  },
  {
   "cell_type": "markdown",
   "id": "739ff02c-bdcc-4257-9572-71e4bbc92074",
   "metadata": {
    "jp-MarkdownHeadingCollapsed": true,
    "tags": []
   },
   "source": [
    "### Data\n",
    "\n",
    "Your exercises will draw on two vector datasets from the Minnesota Geospatial Commons, which have been downloaded, cleaned, transformed and saved in the directory `./data/MN` for this workshop.\n",
    "1. \\[POINT\\] Minnesota Soil, Till, and Ground-Water Geochemical Data: https://conservancy.umn.edu/handle/11299/117364\n",
    "2. \\[RASTER\\] Minnesota Digital Elevation Model - 30 Meter Resolution: https://gisdata.mn.gov/dataset/elev-30m-digital-elevation-model\n",
    "\n",
    "\n",
    "### Attribution\n",
    "\n",
    "These slides build off of material presented in [Schanbenberger & Pierce 2002](https://www.routledge.com/Contemporary-Statistical-Models-for-the-Plant-and-Soil-Sciences/Schabenberger-Pierce/p/book/9781584881117), [Bivand et al. 2013](https://link.springer.com/book/10.1007/978-1-4614-7618-4), [Pebesma & Bivand 2022](https://r-spatial.org/book/), and [Michael Dorman 2022](http://132.72.155.230:3838/r/index.html).\n",
    "\n",
    "---"
   ]
  },
  {
   "cell_type": "markdown",
   "id": "267a8cb6-df3b-4b73-a614-766511ce721c",
   "metadata": {
    "tags": []
   },
   "source": [
    "<a id=\"Geostat\"></a>\n",
    "## Geostatistics Introduction\n",
    "\n",
    "**Geostatistics** is the statistical methodology for spatial interpolation, concerned with \n",
    "modeling, prediction and simulation of spatially continuous phenomena. Where **spatial interpolation**\n",
    "is the process of estimating values of spatially continuous based on a limited number of observation locations\n",
    "\n",
    "- Pattern of observation locations not of primary interest\n",
    "- Interest in inference of aspects of the variable that have not been measured\n",
    "- Characterize spatial and temporal phenomena (e.g., weather data)\n",
    "- Geostatistics are used to circumvent data scarcity\n",
    "\n",
    "Spatial interpolation model: a set of procedures to calculate predicted values of \n",
    "the variable of interest, given calibration data. Calibration data usually include:\n",
    "\n",
    "- **Field measurements**: available for a limited number of locations (e.g., rainfall \n",
    "data from meteorological stations)\n",
    "- **Covariates**: available for each and every location within the area of interest \n",
    "(e.g., elevation data from a DEM)\n",
    "\n",
    "Two categories of spatial interpolation models:\n",
    "\n",
    "- **Deterministic models**: models using arbitrary parameter values (e.g., IDW)\n",
    "- **Statistical models**: models using parameters chosen objectively based on the data (e.g., Kriging)\n",
    "\n",
    "The field of geostatistics was pioneered by Danie Krige and Georges Matheron\n",
    "\n",
    "- Daniel G. Krige: South African mining engineer who first used GLS prediction with spatial covariances in the 1950's. \n",
    "- Georges Matheron: coined this method **kriging** in the 1960's, although similar approaches used previously in meteorology."
   ]
  },
  {
   "cell_type": "markdown",
   "id": "ea1f24a3-e283-4160-b23b-5562dcc21c04",
   "metadata": {},
   "source": [
    "### Random Experiment Realizations\n",
    "\n",
    "Geostatistics deals with the analysis of random fields $Z(s)$\n",
    "\n",
    "- $Z$ is the attribute of interest being measured\n",
    "- $s$ is the location at which we observe this attribute\n",
    "- $Z(s)$ is a spatial observation of attribute $Z$ at location $s$\n",
    "- $s$ is a point in ${\\rm I\\!R}^2$, two-dimensional Euclidean space \n",
    "\n",
    "Typically, measurements on $Z$ are available a limited number of sometimes arbitrarily \n",
    "chosen sample locations, and prediction (*spatial interpolation*) of $Z$ is required \n",
    "at non-observed locations $s_0$\n",
    "\n",
    "A set of spatial data is considered a realization of a random experiment. For any \n",
    "outcome $\\omega$ of the experiment, a single realization of $Z(s)$ is obtained. \n",
    "\n",
    "- $Z(s_0)$ is a random variable by considering the distribution of all possible \n",
    "realizations at the location $s_0$\n",
    "- When a random field is sampled, samples are drawn from one particular realization \n",
    "of the random experiment\n",
    "\n",
    "Consider four realizations of a random function in ${\\rm I\\!R}^2$ across a continuous \n",
    "domain $D$. Realizations at $s_0=[2,3]$ are shown as dots. "
   ]
  },
  {
   "cell_type": "markdown",
   "id": "f25c2712-9fcc-4545-9625-c6791dcb9b72",
   "metadata": {},
   "source": [
    "<img src=\"images/four_random_fields.png\" width=600 alt=\"Random Fields\" title=\"Four Random Fields\" />"
   ]
  },
  {
   "cell_type": "markdown",
   "id": "88752a61-62df-4d2d-8e7a-441fea13ccce",
   "metadata": {},
   "source": [
    "Imagine a soil sample is poured from a bucket onto a flat surface and the depth of \n",
    "the soil is measured. Every pouring $\\omega$ constitutes a random experiment, the \n",
    "result is a function $Z( \\bullet ,\\omega)$\n",
    "\n",
    "Whether we sample the spatial attribute by randomly placing sample locations in $D$ or with a systematic grid has no bearing on the randomness of $Z(s)$\n",
    "\n",
    "- A spatial attribute is not considered random because we performed random sampling\n",
    "- Even if we observed $Z(s)$ everywhere on $D$ with an exhaustive sampling procedure, we would be assessing only one realization of the random function $Z(s,\\omega)$\n",
    "- The sample is drawn from one panel of the figure above – a sample $Z(s_1),…,Z(s_n)$ is a sample size of one"
   ]
  },
  {
   "cell_type": "markdown",
   "id": "dc000d49-874d-44f8-ad20-be6021c8cfa4",
   "metadata": {
    "tags": []
   },
   "source": [
    "### Example: Zinc Concentration\n",
    "\n",
    "Soil monitoring for zinc along flood plain of the river Meuse, near the village Stein in \n",
    "the Netherlands\n",
    "\n",
    "- The data consist of 155 samples, $Z(s_{1}),…,Z(s_{155})$, where $Z(s_i)$ denotes the zinc level at location $s_i$\n",
    "- Observations likely not independent as random sample would imply"
   ]
  },
  {
   "cell_type": "code",
   "execution_count": null,
   "id": "3f4d7cda-aea5-478e-b46b-03ab8547a637",
   "metadata": {},
   "outputs": [],
   "source": [
    "library(sf)\n",
    "library(sp)\n",
    "library(tmap)\n",
    "\n",
    "data(\"meuse\")\n",
    "meuse.sf <- st_as_sf(meuse, coords = c(\"x\", \"y\"), crs = 28992)\n",
    "\n",
    "tm_shape(meuse.sf) + tm_bubbles(\"zinc\")"
   ]
  },
  {
   "cell_type": "markdown",
   "id": "29d06abf-0261-4b69-8e1a-77b00bd99c64",
   "metadata": {},
   "source": [
    "Zinc concentration is larger closer to the river Meuse banks\n",
    "\n",
    "### Explore Data\n",
    "\n",
    "Let's look at the spatial relationship more explicitly by plotting zinc as function of distance to river:"
   ]
  },
  {
   "cell_type": "code",
   "execution_count": null,
   "id": "0f9d727c-61dc-4fd3-b4aa-ec68f0b9807d",
   "metadata": {},
   "outputs": [],
   "source": [
    "library(lattice)\n",
    "xyplot(log(zinc) ~ sqrt(dist), meuse)"
   ]
  },
  {
   "cell_type": "markdown",
   "id": "5c111b0b-9c16-4d4f-87d5-502f6326a5ed",
   "metadata": {
    "tags": []
   },
   "source": [
    "Strong spatial trend in zinc, and we will want to model that spatial realization over a target area"
   ]
  },
  {
   "cell_type": "markdown",
   "id": "05c5a1f7-4de4-4859-8e54-0bda5af480ce",
   "metadata": {},
   "source": [
    "<a id=\"Target\"></a>\n",
    "## Interpolation Target Area\n",
    "\n",
    "When we interpolate a variable, we have to decide *where* we want to interpolate\n",
    "\n",
    "- Typically done on a regular grid covering area of interest\n",
    "- Create a `stars` object with a raster covering the target area, and NA’s outside it\n",
    "\n",
    "The `sp::meuse` data is accompanied by a `sp::meuse.grid` dataset\n",
    "\n",
    "- Convert the `sp` object into an `sf POINT` object \n",
    "- Create a raster `stars` object using `stars::st_rasterize` "
   ]
  },
  {
   "cell_type": "code",
   "execution_count": null,
   "id": "e64eb4a6-5204-45ba-9c34-ad2b664036b3",
   "metadata": {},
   "outputs": [],
   "source": [
    "data(\"meuse.grid\")\n",
    "meuse.gridSF <- st_as_sf(meuse.grid, coords = c(\"x\",\"y\"), crs = st_crs(meuse.sf))\n",
    "meuse.gridStars <- stars::st_rasterize(meuse.gridSF)\n",
    "meuse.gridStars <- st_crop(meuse.gridStars, meuse.gridSF)"
   ]
  },
  {
   "cell_type": "code",
   "execution_count": null,
   "id": "852b2abb-4a1e-455f-a50a-a501332a9d8e",
   "metadata": {},
   "outputs": [],
   "source": [
    "tm_shape(meuse.gridStars) + tm_raster(\"soil\") + \n",
    "  tm_layout(main.title = \"Gridded Area of Interest for Interpolation\")"
   ]
  },
  {
   "cell_type": "markdown",
   "id": "69564f9a-e24f-4d58-a5be-7f78eac6f5c3",
   "metadata": {
    "tags": []
   },
   "source": [
    "<a id=\"Ex1\"></a>\n",
    "### **<span style='color:Green'> Exercise 1: Interpolation Target Area (20 minutes)</span>**   \n",
    "\n",
    "Your exercises draw on two datasets:\n",
    "\n",
    "- POINT: [Minnesota Soil, Till, and Ground-Water Geochemical Data](https://conservancy.umn.edu/handle/11299/117364)\n",
    "- RASTER: [Minnesota Digital Elevation Model - 30 Meter Resolution](https://gisdata.mn.gov/dataset/elev-30m-digital-elevation-model)"
   ]
  },
  {
   "cell_type": "markdown",
   "id": "53d94f36-540a-45ca-adfb-cf5c83f342fb",
   "metadata": {},
   "source": [
    "1. Import the following shapefiles as `sf` objects\n",
    "\n",
    "    - Well water sample geochemical data: `water_data_plots` [name this object `h2o_geochem`]\n",
    "    \n",
    "2. Import the following geoTiff files as `RasterLayer` objects\n",
    "\n",
    "    - Digital elevation model: `digital_elevation_mo_1` [name this object `dem`]\n",
    "    \n",
    "3. Download a county-level shapefile for Minnesota. \n",
    "\n",
    "    1. Using the `raster::getData()` function, download the GADM level 2 (i.e., district) \n",
    "    boundary data for the United States. Within your `getData` call\n",
    "    save this data in a new folder within your \"./data\" called \"bdry_state\". Name this \n",
    "    object `us_adm2`. [Occassionally, the GADM server is down, try again later or ask me \n",
    "    for the shapefile.]\n",
    "    \n",
    "    2. Subset `us_adm2` to the county boundaries (level 2) for the state of Minnesota (level 1)\n",
    "    [name this object `mn_adm2`]. Transform it to an `sf` object."
   ]
  },
  {
   "cell_type": "code",
   "execution_count": null,
   "id": "e191e472-23d6-4cc9-a513-fe501cab266e",
   "metadata": {},
   "outputs": [],
   "source": []
  },
  {
   "cell_type": "markdown",
   "id": "5fce3981-4e6d-4772-82ec-40bc6760a9a5",
   "metadata": {},
   "source": [
    "<details>\n",
    "    \n",
    "<summary><span style='color:Green'> Click to see answer  </span></summary>\n",
    "\n",
    "```r\n",
    "library(sf)\n",
    "h2o_geochem <- st_read(\"./data/geochem\")\n",
    "\n",
    "library(raster)\n",
    "dem <- raster(\"./data/dem_30m/digital_elevation_mo_1.tif\")\n",
    "\n",
    "library(sp)\n",
    "us_adm2 <- getData(name = \"GADM\", country = \"USA\", level = 2, \n",
    "                   download = TRUE, path = \"./data/bdry_state\")\n",
    "\n",
    "mn_adm2 <- st_as_sf(us_adm2[us_adm2$NAME_1 == \"Minnesota\",])\n",
    "```\n",
    "----\n",
    "          \n",
    "</details>"
   ]
  },
  {
   "cell_type": "markdown",
   "id": "33141d54-5a95-468e-9e20-ec5ef5a63ce8",
   "metadata": {},
   "source": [
    "4. Check that all of your geospatial data files have matching NAD83 / UTM zone 15N \n",
    "coordinate reference systems. Correct if necessary. "
   ]
  },
  {
   "cell_type": "code",
   "execution_count": null,
   "id": "402cd14a-d2e0-4e25-8313-33ed341e9cc3",
   "metadata": {},
   "outputs": [],
   "source": []
  },
  {
   "cell_type": "markdown",
   "id": "df95ec7d-dcbf-4e53-b548-105e1b374478",
   "metadata": {},
   "source": [
    "<details>\n",
    "    \n",
    "<summary><span style='color:Green'> Click to see answer  </span></summary>\n",
    "\n",
    "```r\n",
    "st_crs(h2o_geochem) == st_crs(mn_adm2)  #does not match\n",
    "mn_adm2 <- st_transform(mn_adm2, st_crs(h2o_geochem))\n",
    "```\n",
    "----\n",
    "          \n",
    "</details>"
   ]
  },
  {
   "cell_type": "markdown",
   "id": "6dae2cdb-5be6-4464-82eb-9c17e9a600cb",
   "metadata": {},
   "source": [
    "5. The term Iron Range refers to a number of elongated iron-ore mining districts \n",
    "around Lake Superior in the United States and Canada. From a geological perspective, \n",
    "Minnesota's Iron Range includes these four major iron deposits:\n",
    "\n",
    "    - Mesabi Range, the largest iron range, largely within Itasca and Saint Louis counties;\n",
    "    - Vermilion Range, northeast of the Mesabi, in Saint Louis and Lake counties;\n",
    "    - Gunflint Range, in the extreme northern portion of Cook County and extending into Canada; and\n",
    "    - Cuyuna Range, southwest of the Mesabi, largely within Crow Wing County.\n",
    "    \n",
    "    The remainder of section will focus on estimating the iron levels in the groundwater throughout \n",
    "    the largest iron range in Minnesota -- the Mesabi Range -- based on the `h2o_geochem` samples. \n",
    "    First, you'll need to prep your data layers. \n",
    "    \n",
    "    1. The MN counties considered part of the Mesabi Range are Itasca and Saint Louis. Subset \n",
    "    your `mn_adm2` object to these two counties [name this object `mesabiRngCnty`].\n",
    "    2. Extract the well water samples taken within the Mesabi Range [name this object `mesabiRngWells`]. \n",
    "    3. Crop and mask your `dem90` layer using your `mesabiRngCnty` object [name this object `mesabiRngDEM`]. \n",
    "    4. Aggregate your `mesabiRngDEM` layer by a factor of ten (10), assigning the average to the new cells.\n",
    "    5. For Universal Kriging, any covariates in your calibration data also need to be availabe for every \n",
    "    location within your area of interest. Using your `mesabiRngDEM` object, add an elevation covariate to \n",
    "    your `mesabiRngWells` object. \n",
    "    6. Convert your `mesabiRngDEM` RasterLayer object into a `stars` object using the `stars::st_as_stars()`\n",
    "    function so that you have a target interpolation layer."
   ]
  },
  {
   "cell_type": "code",
   "execution_count": null,
   "id": "1147e436-9915-4a2c-a0f0-c784a103c515",
   "metadata": {},
   "outputs": [],
   "source": []
  },
  {
   "cell_type": "markdown",
   "id": "16038955-1405-419f-8ce4-242484983c02",
   "metadata": {},
   "source": [
    "<details>\n",
    "    \n",
    "<summary><span style='color:Green'> Click to see answer  </span></summary>\n",
    "\n",
    "```r\n",
    "library(tmap)\n",
    "    \n",
    "cntyInt <- c('Itasca', 'Saint Louis')\n",
    "mesabiRngCnty <- mn_adm2[mn_adm2$NAME_2 %in% cntyInt,]\n",
    "\n",
    "lakeSup <- mn_adm2[mn_adm2$NAME_2 == \"Lake Superior\",]\n",
    "\n",
    "cntyMap <- tm_shape(mn_adm2) + tm_borders() +\n",
    "  tm_shape(mesabiRngCnty) + tm_polygons(\"red\") +\n",
    "  tm_shape(lakeSup) + tm_polygons(\"skyblue2\") +\n",
    "  tm_layout(main.title = \"Map of Minnesota with the Mesabi Range \\n Counties Highlighted\", \n",
    "            main.title.size = 1)\n",
    "\n",
    "mesabiRngWells <- h2o_geochem[mesabiRngCnty,]\n",
    "\n",
    "mesabiRngDEM <- mask(crop(dem, mesabiRngCnty), mesabiRngCnty)\n",
    "\n",
    "mesabiRngDEM <- aggregate(mesabiRngDEM, fact = 10, fun=mean)\n",
    "names(mesabiRngDEM) <- \"elevation\"\n",
    "\n",
    "wellsDEM <- extract(mesabiRngDEM, mesabiRngWells)\n",
    "mesabiRngWells$elevation <- wellsDEM \n",
    "\n",
    "library(stars)\n",
    "mesabiRngDEM <- st_as_stars(mesabiRngDEM)\n",
    "\n",
    "IRMap <- tm_shape(mesabiRngCnty) + tm_borders() +\n",
    "  tm_shape(mn_adm2) + tm_polygons() +\n",
    "  tm_shape(lakeSup) + tm_polygons(\"skyblue2\") +\n",
    "  tm_shape(mesabiRngDEM) + tm_raster(title = \"Elevation\", style = \"fisher\") +\n",
    "  tm_shape(mesabiRngWells) + tm_bubbles(\"Iron\", alpha = 0.2) +\n",
    "  tm_shape(mesabiRngCnty) + tm_borders() +\n",
    "  tm_layout(main.title = \"Well Water Samples in the Mesabi Range\", \n",
    "            main.title.size = 1, \n",
    "            legend.position = c(\"left\",\"top\"), \n",
    "            legend.bg.color = \"white\")\n",
    "\n",
    "tmap_arrange(cntyMap, IRMap, nrow = 1)\n",
    "```\n",
    "----\n",
    "          \n",
    "</details>"
   ]
  },
  {
   "cell_type": "markdown",
   "id": "f30c9a2a-13b4-465b-b921-9ea945ac17eb",
   "metadata": {},
   "source": [
    "<a id=\"Wgts\"></a>\n",
    "## Weighted Average Principle\n",
    "\n",
    "Many of the commonly used interpolation methods -- including today's focus: IDW & Kriging -- assume \n",
    "a predicted value is a *weighted average* of neighboring points. \n",
    "\n",
    "$$\n",
    "\\hat Z(s_0) = \\frac{\\sum_{i=1}^{n}w(s_i)Z(s_i)}{\\sum_{i-1}^{n}w(s_i)}\n",
    "$$\n",
    "where\n",
    "\n",
    "- $\\hat Z(s_0)$ is the predicted value at location $s_0$\n",
    "- $w(s_i)$ is the weight of measured point $i$\n",
    "- $Z(s_i)$ is the value of measured point $i$"
   ]
  },
  {
   "cell_type": "markdown",
   "id": "6f3abc3d-b3f3-4b37-bb54-fdee4bbac665",
   "metadata": {},
   "source": [
    "### IDW Interpolation Weights\n",
    "\n",
    "IDW weights\n",
    "$$\n",
    "\\hat Z(s_0) = \\frac{\\sum_{i=1}^{n}w_iZ(s_i)}{\\sum_{i-1}^{n}w_i}\n",
    "$$\n",
    "with $w_i = |s_0 - s_i|^{-p}$, where $p$, the inverse distance power, defaults to $p=2$\n",
    "\n",
    "$p$ determines how steeply weight increases with proximity\n",
    "\n",
    "- Low $p$: weights are more or less equally distributed among neighbors [-> average of all measured points]\n",
    "- High $p$: one point (the nearest) has overwhelmingly high weight [-> nearest neighbor interpolation]\n",
    "\n",
    "Compute inverse distance interpolated values using `gstat::idw`"
   ]
  },
  {
   "cell_type": "code",
   "execution_count": null,
   "id": "da6c335a-fda4-45d2-b6a4-cc48173cb160",
   "metadata": {},
   "outputs": [],
   "source": [
    "library(gstat)\n",
    "i2 <- idw(zinc~1, meuse.sf, meuse.gridStars, idp = 2)"
   ]
  },
  {
   "cell_type": "code",
   "execution_count": null,
   "id": "56467470-245d-48c8-b8ae-b3190e48cf5d",
   "metadata": {},
   "outputs": [],
   "source": [
    "i025 <- idw(zinc~1, meuse.sf, meuse.gridStars, idp = 0.25)\n",
    "p0.25 <- tm_shape(i025) + tm_raster(col = \"var1.pred\", style = \"fisher\", title = \"Zinc (predicted)\") +\n",
    "  tm_shape(meuse.sf) + \n",
    "  tm_bubbles(size = \"zinc\", alpha = 0.2) +\n",
    "  tm_layout(main.title = \"p = 0.25\")\n",
    "\n",
    "p2 <- tm_shape(i2) + tm_raster(col = \"var1.pred\", style = \"fisher\", title = \"Zinc (predicted)\") +\n",
    "  tm_shape(meuse.sf) + \n",
    "  tm_bubbles(size = \"zinc\", alpha = 0.2) +\n",
    "  tm_layout(main.title = \"p = 2\")\n",
    "\n",
    "i16 <- idw(zinc~1, meuse.sf, meuse.gridStars, idp = 16)\n",
    "p16 <- tm_shape(i16) + tm_raster(col = \"var1.pred\", style = \"fisher\", title = \"Zinc (predicted)\") +\n",
    "  tm_shape(meuse.sf) + \n",
    "  tm_bubbles(size = \"zinc\", alpha = 0.2) +\n",
    "  tm_layout(main.title = \"p = 16\")\n",
    "\n",
    "tmap_arrange(p0.25, p2, p16, nrow = 1)"
   ]
  },
  {
   "cell_type": "markdown",
   "id": "27dfbacc-b12d-4d4c-b30c-7dd7b763e0ba",
   "metadata": {},
   "source": [
    "### Kriging Interpolation Weights\n",
    "In Kriging, the weight is a particular function of distance known as the **variogram** (or *semivariogram*)\n",
    "\n",
    "Methods for modeling and analyzing spatial data rely heavily on stochastic properties of the spatial random field\n",
    "\n",
    "- If what we observe must be considered a sample size of one, how can we learn anything about the variation of $Z(s)$ or the covariances among $Z(s_i)$ and $Z(s_j)$?\n",
    "- Certain assumptions, such as having a random sample, provide the underpinnings of the stochastic structure that enables analysis\n",
    "\n",
    "#### Random Field Properties: Stationarity \n",
    "\n",
    "**Stationarity** means that the random field looks similar in different parts of the domain $D$, it replicates itself\n",
    "\n",
    "Consider two observations at $Z(s)$ and $Z(s+h)$\n",
    "\n",
    "$h$ is a displacement by which we move from location $s$ to location $u=s+h$ (lag-vector)\n",
    "\t\n",
    "- If random field is self-replicating, the stochastic properties of $Z(s)$ and $Z(s+h)$ should be similar\n",
    "- To estimate the covariance between locations distance $h$ apart, we might consider all pairs $(Z(s),Z(s+h))$ in the estimation process, regardless of where $s_i$ is located \n",
    "- Stationarity is the absence of an origin – the spatial process has reached a state of equilibrium\n",
    "\n",
    "***Time Series Example***\n",
    "\n",
    "It doesn’t matter when a time shift is considered in term of absolute time, only how large the time shift is. We can talk about a difference of two days without worrying that the first occasion was a Saturday.\n",
    "\n",
    "In the spatial context, stationarity means the lack of importance of absolute coordinates\n",
    "\n",
    "The three important varieties of stationarity are *strict*, *second-order*, and *intrinsic*. We're going to focus on intrinsic stationarity, which assumes that the process that generated the\n",
    "samples is a random function $Z(s)$ composed of a mean and residual\n",
    "$$Z(s) = m + e(s)$$\n",
    "with a constant mean\n",
    "$$E(Z(s)) = m$$\n",
    "and a variogram defined as\n",
    "$$\\gamma(h) = \\frac{1}{2}E(Z(s) - Z(s + h))^2$$\n",
    "\n",
    "Under the intrinsic stationarity assumption:\n",
    "\n",
    "- Variance of $Z$ is constant\n",
    "- Spatial correlation of $Z$ does not depend on location $s$, but only on\n",
    "separation distance $h$ \n",
    "\n",
    "We can form multiple pairs ${z(s_i), z(s_j)}$ that\n",
    "have (nearly) identical separation vectors $h = s_i - s_j$ and estimate correlation\n",
    "from them\n",
    "\n",
    "#### Random Field Properties: Isotropy\n",
    "\n",
    "Stationarity reflects the lack of importance of absolute coordinates, but the direction in which the lag vector $h$ is assessed still plays an important role."
   ]
  },
  {
   "cell_type": "markdown",
   "id": "abe26775-3b12-4b66-a5a0-9139ffa48420",
   "metadata": {},
   "source": [
    "<img src=\"images/isotropy.jpg\" width=600 />"
   ]
  },
  {
   "cell_type": "markdown",
   "id": "57f954a5-e6d0-41a6-aba2-02f55e0df77e",
   "metadata": {},
   "source": [
    "The condition by which the random field is also invariant under rotation and reflection is known as **isotropy**.\n",
    "\n",
    "- The covariance between any two points $Z(s)$ and $Z(s+h)$ is only a function of the Euclidean distance $||h||$ between the two points:  $Cov[Z(s),Z(s+h)]=C(||h||)$\n",
    "\n",
    "- Under the isotropic assumption, the variogram can be estimated from $N_h$ sample\n",
    "data pairs $Z(s_i)$, $Z(s_i + h)$ for a number of distances (or distance intervals)\n",
    "$\\tilde{h_j}$ by\n",
    "$$\\hat{\\gamma}(\\tilde{h_j})=\\frac{1}{2N_h}\\sum_{i=1}^{N_h}(Z(s_i)-Z(s_i+h))^2, \\forall{h} \\in \\tilde{h_j}$$\n",
    "and this estimate is called the *sample variogram*.\n",
    "\n",
    "#### Variogram\n",
    "\n",
    "It is because of the factor $\\frac{1}{2}$ that $\\gamma(h)$ is termed the semivariogram and $2\\gamma(h)$ is termed the variogram \n",
    "\n",
    "The semivariogram is a structural tool that can convey a great deal about the nature and structure of spatial dependency in a random field\n",
    "\n",
    "Estimating is a two-step process: \n",
    "\n",
    "1. Derive an empirical estimate of the semivariogram from the data\n",
    "2. Fit a theoretical semivariogram model to the empirical estimate\n",
    "\n",
    "- The semivariogram of a spatial process is one half of the variance of the difference between observations\n",
    "\n",
    "- The semivariogram conveys information about the spatial structure and the degree of continuity of a random field\n",
    "\n",
    "- Theoretical models are fit to the data to arrive at an estimated semivariogram that satisfies the properties needed for subsequent analysis\n",
    "\n",
    "#### Exploratory Variogram Analysis\n",
    "\n",
    "Visualize potential spatial correlation with an *h*-scatterplot (`gstat::hscat`):\n",
    "a scatterplot of $Z(s_i)$ and $Z(s_j)$ pairs grouped according to their separation \n",
    "distance $h_{ij} = ||s_i - s_j||$"
   ]
  },
  {
   "cell_type": "code",
   "execution_count": null,
   "id": "d1e699ac-3c23-40c5-b00c-ebca313fb89e",
   "metadata": {},
   "outputs": [],
   "source": [
    "hscat(zinc ~ 1, data = meuse.sf, breaks = (0:9) * 100)"
   ]
  },
  {
   "cell_type": "markdown",
   "id": "8d1d62aa-79e2-436b-9c2a-0c8bbd61ac48",
   "metadata": {},
   "source": [
    "- The diagonal lines represent perfect correlation\n",
    "- It appears that nearer observations are more like one another, and that the\n",
    "similarity declines with distance\n",
    "\n",
    "Calculate the experimental variogram with the `gstat:: variogram` function. "
   ]
  },
  {
   "cell_type": "code",
   "execution_count": null,
   "id": "5dba2d85-8811-46ea-a0e7-05a2b9e040b9",
   "metadata": {},
   "outputs": [],
   "source": [
    "v <- variogram(log(zinc) ~ 1, meuse.sf)"
   ]
  },
  {
   "cell_type": "markdown",
   "id": "2f2c1ddc-be28-4177-b7e4-daca80493fc1",
   "metadata": {},
   "source": [
    "- `~ 1` defines a single constant predictor, leading to a spatially constant\n",
    "mean coefficient\n",
    "\n",
    "Explore spatial correlation by plotting the variogram cloud and related experimental variogram\n",
    "\n",
    "- **Variogram cloud**: obtained by plotting all possible squared differences \n",
    "of observation pairs $(Z(s_i) - Z(s_j))^2$ against their separation distance $h_{ij}$ (`cloud = T` argument)\n",
    "- **Experimental variogram**: plot of averages of the semivariogram cloud values over distance\n",
    "intervals $h$"
   ]
  },
  {
   "cell_type": "code",
   "execution_count": null,
   "id": "017bbb86-3feb-4872-9a51-89a1a4fe90e1",
   "metadata": {},
   "outputs": [],
   "source": [
    "cloudV <- plot(variogram(log(zinc) ~ 1, meuse.sf, cloud = TRUE), xlab = \"distance h [m]\",\n",
    "     ylab = expression(gamma(h)), xlim = c(0, 1.055 * max(v$dist)), \n",
    "     main = \"Variogram Cloud\")\n",
    "\n",
    "experV <- plot(variogram(log(zinc) ~ 1, meuse.sf), xlab = \"distance h [m]\",\n",
    "     ylab = expression(gamma(h)), xlim = c(0, 1.055 * max(v$dist)), \n",
    "     main = \"Experimental Variogram\")"
   ]
  },
  {
   "cell_type": "code",
   "execution_count": null,
   "id": "5be9d50d-3e34-42c7-bf0e-d498d004a335",
   "metadata": {},
   "outputs": [],
   "source": [
    "library(gridExtra)\n",
    "grid.arrange(cloudV, experV, nrow = 1)"
   ]
  },
  {
   "cell_type": "markdown",
   "id": "46c50454-6b24-41e9-b947-8c5adff21bd0",
   "metadata": {},
   "source": [
    "A valid semivariogram has similar properties and conditions:\n",
    "\n",
    "- *Range*: Distance at which maximum variance is reached\n",
    "    - The distance at which data are no longer correlated, depending on scale it might not be present in all datasets\n",
    "    - The *practical range* is the lag distance at which the semivariogram achieves 95% of the sill\n",
    "    - Spatial autocorrelation exists only for pairs of points separated by less than the (practical) range\n",
    "- *Sill*: Level of maximum variability within the dataset\n",
    "    - $\\lim_{x \\to \\infty} \\gamma(h)$ approximates the variance within the dataset\n",
    "    - The more quickly the semivariogram rises from the origin to the sill the more quickly autocorrelation declines\n",
    "- *Nugget*: Variance at zero distance\n",
    "    - Represents small scale variations or measurement error"
   ]
  },
  {
   "cell_type": "markdown",
   "id": "55933877-680a-49a4-b1b9-ef0147148527",
   "metadata": {},
   "source": [
    "<img src=\"images/variogram-example.jpg\" width=600 />"
   ]
  },
  {
   "cell_type": "markdown",
   "id": "423953a3-3c89-4b18-9fc6-e074d27b4254",
   "metadata": {},
   "source": [
    "#### Fitting Variogram Models\n",
    "\n",
    "To progress toward spatial predictions, we need a variogram model $\\gamma(h)$ for \n",
    "(potentially) all distances $h$, rather than the set of estimates\n",
    "\n",
    "- Connecting estimates with straight lines, or assuming they reflect constant \n",
    "values over their respective distance intervals, would lead to statistical models \n",
    "with non-positive definite covariance matrices\n",
    "- Couldn't use estimates in prediction\n",
    "\n",
    "The traditional way of finding a suitable (semi)variogram model is to fit a parametric\n",
    "model $\\gamma(h; \\theta)$ to the experimental variogram estimates $\\hat\\gamma(h_i)$.\n",
    "\n",
    "- $\\theta$ is a vector of parameters that is estimated from the data by direct or indirect methods\n",
    "- In the isotropic models that follow, $\\theta_0$ denotes the nugget and $\\theta_s$ denotes the sill\n",
    "\n",
    "#### Variogram Modeling: Common Models\n",
    "\n",
    "- Nugget-Only Model:\n",
    "    - The semivariogram of a white-noise problem\n",
    "\t  - The $Z(s_i)$ behave like a random sample, all having the same mean, variance with no correlations among them\n",
    "\t  - The model is devoid of spatial structure, the relative structured variability is zero\n",
    "\t  - Appropriate if the smallest sample distance in the data is greater than the range of the spatial process\n",
    "\t  \n",
    "$$\\gamma(h;\\theta) = \n",
    "\\Bigg\\{\\begin{array}\n",
    "{ll}\n",
    "0 & h=0 \\\\\n",
    "\\theta_s & h \\neq 0\n",
    "\\end{array}$$\n",
    "\n",
    "- Linear Model:\n",
    "    - Intrinsically stationary with parameters $\\theta_0$ and $\\beta$ (both of which must be positive)\n",
    "    - Covariances or semivariances usually don’t change linearly over a large range, but linear change of the semivariogram near the origin is often reasonable\n",
    "\n",
    "$$\\gamma(h;\\theta) = \n",
    "\\Bigg\\{\\begin{array}\n",
    "{ll}\n",
    "0 & h=0 \\\\\n",
    "\\theta_s + \\beta ||h|| & h \\neq 0\n",
    "\\end{array}$$\n",
    "\n",
    "- Spherical Model:\n",
    "    - One of the most popular semivariogram models in applied spatial statistics for second-order stationary random fields\n",
    "  \t- Linear behavior near the origin\n",
    "\t  - At a distance $\\alpha$ the semivariogram meets the sill and remails flat thereafter\n",
    "\t  - Sometimes creates a kink at $||h||=\\alpha$\n",
    "\t  \n",
    "$$\\gamma(h;\\theta) = \n",
    "\\Bigg\\{\\begin{array}\n",
    "{lll}\n",
    "0 & ||h||=0 \\\\\n",
    "\\theta_0 + \\theta_s\\{\\frac{3}{2} \\frac{||h||}{\\alpha} - \\frac{1}{2} (\\frac{||h||}{\\alpha})^3 \\} & 0 < ||h|| \\le \\alpha \\\\\n",
    "\\theta_0 + \\theta_s & ||h||>\\alpha\n",
    "\\end{array}$$\n",
    "\n",
    "- Exponential Model:\n",
    "    – Found to fit spatial data in varied applications well\n",
    "\t  - Approaches the sill $\\theta_s$ asymptotically as $||h|| \\to \\infty$\n",
    "\t  - In the parameterization shown below the parameter $\\alpha$ is the practical range of the semivariogram\n",
    "\t  - For the same range and sill as the spherical model the exponential model rises more quickly from the origin and yields autocorrelations at short lag distances smaller than those of the spherical model\n",
    "\t  \n",
    "$$\\gamma(h;\\theta) = \n",
    "\\Bigg\\{\\begin{array}\n",
    "{ll}\n",
    "0 & h=0 \\\\\n",
    "\\theta_0 + \\theta_s\\Big\\{1-exp \\Big\\{- \\frac{3 ||h||}{\\alpha} \\Big\\} \\Big\\} & h \\neq 0\n",
    "\\end{array}$$\n",
    "\n",
    "- Gaussian Model:\n",
    "    - Found to fit spatial data in varied applications well\n",
    "\t  - Model exhibits quadratic behavior near the origin and produces short-range correlations that are higher for any of the other second-order stationary models with the same (practical) range\n",
    "\t  - The only difference between the Gaussian and exponential semivariogram is the square in the exponent\n",
    "\t  - Gaussian model is the most continuous near the origin of the models considered here – infinitely differentiable\n",
    "\n",
    "$$\\gamma(h;\\theta) = \n",
    "\\Bigg\\{\\begin{array}\n",
    "{ll}\n",
    "0 & h=0 \\\\\n",
    "\\theta_0 + \\theta_s\\Big\\{1-exp \\Big\\{- 3 (\\frac{||h||}{\\alpha}) ^ 2 \\Big\\} \\Big\\} & h \\neq 0\n",
    "\\end{array}$$"
   ]
  },
  {
   "cell_type": "markdown",
   "id": "8b4cbf15-d7e3-47db-af7c-ab78101eb310",
   "metadata": {},
   "source": [
    "<img src=\"images/variogram-models2.jpg\" width=600 />"
   ]
  },
  {
   "cell_type": "markdown",
   "id": "17efc78a-693d-463d-992c-8ba792c31b67",
   "metadata": {},
   "source": [
    "#### Variogram Modeling\n",
    "\n",
    "An overview of the basic variogram\n",
    "models available in gstat is obtained by `show.vgms()`"
   ]
  },
  {
   "cell_type": "code",
   "execution_count": null,
   "id": "4f85d1ce-e500-4a2d-88ab-81fdd32ae06e",
   "metadata": {},
   "outputs": [],
   "source": [
    "show.vgms(layout=c(4, 5))"
   ]
  },
  {
   "cell_type": "markdown",
   "id": "3ae1a7a0-396f-41ac-8324-9506a68524c5",
   "metadata": {},
   "source": [
    "In `gstat, valid variogram models are constructed by using one or combinations\n",
    "of two or more basic variogram models\n",
    "\n",
    "Variogram models are derived from data.frame objects, and are built by specifying the sill, model type and range:"
   ]
  },
  {
   "cell_type": "code",
   "execution_count": null,
   "id": "8f408a1a-bf29-40a9-9614-4d030644be53",
   "metadata": {},
   "outputs": [],
   "source": [
    "vgm(1, \"Sph\", 300)"
   ]
  },
  {
   "cell_type": "markdown",
   "id": "2d4d05f1-8c49-476f-98ed-6a5d15f43f6e",
   "metadata": {},
   "source": [
    "Not all of these models are equally useful, in practice. \n",
    "\n",
    "Most practical studies have so far used exponential, spherical, Gaussian, or power models,\n",
    "with or without a nugget, or a combination of those.\n",
    "\n",
    "Can fit a variogram model using a variety of methods (e.g., least squares, maximum lielihood, composite likelihood). \n",
    "\n",
    "For weighted least squares fitting a variogram model to the experimental variogram, we need to take several steps:\n",
    "\n",
    "1. Choose a suitable model (e.g., exponential, spherical), with or without\n",
    "nugget\n",
    "2. Choose suitable initial values for partial sill(s), range(s), and possibly\n",
    "nugget\n",
    "3. Fit this model, using one of the fitting criteria.\n",
    "\n",
    "For our example variogram `v` on zinc deposits, the spherical model looks like a \n",
    "reasonable choice\n",
    "\n",
    "Initial values for the variogram fit are needed for `fit.variogram`, because\n",
    "for the spherical model (and many other models) fitting the range parameter\n",
    "involves non-linear regression. \n",
    "\n",
    "The following fit works:"
   ]
  },
  {
   "cell_type": "code",
   "execution_count": null,
   "id": "f0b448bc-3398-4c56-9d94-7f45bb5a7d2c",
   "metadata": {},
   "outputs": [],
   "source": [
    "v.fit <- fit.variogram(v, vgm(1, \"Sph\", 800, 1))\n",
    "\n",
    "plot(v, v.fit, plot.numbers = TRUE, xlab = \"distance h [m]\",\n",
    "     ylab = expression(gamma(h)),\n",
    "     xlim = c(0, 1.055 * max(v$dist)))"
   ]
  },
  {
   "cell_type": "markdown",
   "id": "8c5ba940-f7bd-43f0-bcad-a716ecb8a8a0",
   "metadata": {
    "tags": []
   },
   "source": [
    "<a id=\"Ex2\"></a>\n",
    "### **<span style='color:Green'> Exercise 2: Variogram (15 minutes)</span>**   \n",
    "\n",
    "1. Create an experimental variogram object for ordinary kriging weights using the \n",
    "formula `log(Iron) ~ 1` (`v`) and then fit a variogram model (`v.fit`) to `v`. \n",
    "\n",
    "    When fitting your variogram model you need to think about the sill, model type \n",
    "    (e.g., \"Exp\", \"Sph\", \"Gau\", \"Mat\"), range, and nugget values. See `fit.variogram` for\n",
    "    additional arguments depending on the model chosen. It doesn't matter which model you \n",
    "    choose, but you do need to defend your choice. "
   ]
  },
  {
   "cell_type": "code",
   "execution_count": null,
   "id": "55bb3e07-99cd-415f-bf48-290112c38a2f",
   "metadata": {},
   "outputs": [],
   "source": []
  },
  {
   "cell_type": "markdown",
   "id": "d2069d7b-0ed7-47c6-99d3-6f64a20c623f",
   "metadata": {},
   "source": [
    "<details>\n",
    "    \n",
    "<summary><span style='color:Green'> Click to see answer  </span></summary>\n",
    "\n",
    "```r\n",
    "library(gstat)\n",
    "\n",
    "v <- variogram(log(Iron) ~ 1, mesabiRngWells)\n",
    "v.fit <- fit.variogram(v, vgm(psill = 4, model = \"Exp\", range = 20000, nugget = 4))\n",
    "```\n",
    "----\n",
    "          \n",
    "</details>"
   ]
  },
  {
   "cell_type": "markdown",
   "id": "8f3646f5-b52c-4094-a803-7fe644589455",
   "metadata": {},
   "source": [
    "2. Create an experimental variogram object for universal kriging weights using the \n",
    "formula `log(Iron) ~ elevation` (`vt`) and then fit a variogram model (`vt.fit`) to `vt`. "
   ]
  },
  {
   "cell_type": "code",
   "execution_count": null,
   "id": "b3223eef-6f23-4a72-a2ee-030363e7b2dc",
   "metadata": {},
   "outputs": [],
   "source": []
  },
  {
   "cell_type": "markdown",
   "id": "47cdc4a4-c92d-42e7-a8da-f933a8071620",
   "metadata": {},
   "source": [
    "<details>\n",
    "    \n",
    "<summary><span style='color:Green'> Click to see answer  </span></summary>\n",
    "\n",
    "```r\n",
    "vt <- variogram(log(Iron) ~ elevation, mesabiRngWells)\n",
    "vt.fit <- fit.variogram(vt, vgm(psill = 4, model = \"Exp\", range = 20000, nugget = 4))\n",
    "```\n",
    "----\n",
    "          \n",
    "</details>"
   ]
  },
  {
   "cell_type": "markdown",
   "id": "b0c0dbb4-ab46-4923-8236-2f932a499cda",
   "metadata": {},
   "source": [
    "3. Plot your experimental and fitted variograms for both 2.1 and 2.2. An example answer is shown below, but note that my choice of variogram models may differ from yours."
   ]
  },
  {
   "cell_type": "code",
   "execution_count": null,
   "id": "d9ba3d2b-1e67-4d87-b5a2-b0417d6c2b78",
   "metadata": {},
   "outputs": [],
   "source": []
  },
  {
   "cell_type": "markdown",
   "id": "0bff4ed2-edd7-4d94-86d8-1d3c929325bb",
   "metadata": {},
   "source": [
    "<details>\n",
    "    \n",
    "<summary><span style='color:Green'> Click to see answer  </span></summary>\n",
    "\n",
    "```r\n",
    "plot(v, v.fit, plot.numbers = TRUE, xlab = \"distance h [m]\",\n",
    "     ylab = expression(gamma(h)), \n",
    "     main = \"Experimental and Fitted \\n Variograms Without Covariates\", \n",
    "     main.title.size = 0.75)\n",
    "\n",
    "plot(vt, vt.fit, plot.numbers = TRUE, xlab = \"distance h [m]\",\n",
    "     ylab = expression(gamma(h)), \n",
    "     main = \"Experimental and Fitted \\n Variograms With Covariates\", \n",
    "     main.title.size = 075)\n",
    "```\n",
    "----\n",
    "          \n",
    "</details>"
   ]
  },
  {
   "cell_type": "markdown",
   "id": "fe0c6769-bcce-4568-8e0f-8900b233726f",
   "metadata": {},
   "source": [
    "<a id=\"Kriging\"></a>\n",
    "## Kriging\n",
    "\n",
    "Spatial prediction refers to the prediction of unknown quantities $Z(s_0)$, based\n",
    "on sample data $Z(s_i)$ and assumptions regarding the form of the trend of $Z$\n",
    "and its variance and spatial correlation\n",
    "\n",
    "Kriging methods were developed to predict $Z(s_0)$ at some unsampled location $s_0$ based on the sample $Z(s_1),…,Z(s_n)$\n",
    "\n",
    "The instances of this best linear unbiased prediction method with the number\n",
    "of predictors $p > 0$ are usually called *universal kriging*.\n",
    "\n",
    "When $p = 0$ and $X_0 \\equiv 1$, the corresponding\n",
    "prediction is called *ordinary kriging*.\n",
    "\n",
    "*Simple kriging* is obtained when $\\beta$ is a priori assumed\n",
    "to be known. \n",
    "\n",
    "We can krige `zinc` by using `gstat::krige`, with the model for the trend, the data, \n",
    "the prediction grid, and the variogram model as arguments\n",
    "\n",
    "Simple Kriging"
   ]
  },
  {
   "cell_type": "code",
   "execution_count": null,
   "id": "d6a5ab8f-014c-4a31-a847-f68a5a8c78d1",
   "metadata": {},
   "outputs": [],
   "source": [
    "lz.sk <- krige(log(zinc) ~ 1, meuse.sf, meuse.gridStars, v.fit, beta = 5.9)"
   ]
  },
  {
   "cell_type": "markdown",
   "id": "5e06ca78-bec3-4d85-b253-adc7ce8ea334",
   "metadata": {},
   "source": [
    "Ordinary Kriging"
   ]
  },
  {
   "cell_type": "code",
   "execution_count": null,
   "id": "60971017-9857-4a12-b1a6-c89638d32ddb",
   "metadata": {},
   "outputs": [],
   "source": [
    "lz.ok <- krige(log(zinc) ~ 1, meuse.sf, meuse.gridStars, v.fit)"
   ]
  },
  {
   "cell_type": "markdown",
   "id": "75ca49cf-8e3e-4464-a514-8ddc5acbdec3",
   "metadata": {},
   "source": [
    "Universal Kriging"
   ]
  },
  {
   "cell_type": "code",
   "execution_count": null,
   "id": "af80f9c3-860d-4764-9549-824753a5d259",
   "metadata": {},
   "outputs": [],
   "source": [
    "vt <- variogram(log(zinc) ~ sqrt(dist), meuse.sf)\n",
    "vt.fit <- fit.variogram(vt, vgm(1, \"Exp\", 300, 1))\n",
    "lz.uk <- krige(log(zinc) ~ sqrt(dist), meuse.sf, meuse.gridStars, vt.fit)"
   ]
  },
  {
   "cell_type": "markdown",
   "id": "a340dbd0-d1be-4f49-8b96-6755290c4f26",
   "metadata": {},
   "source": [
    "`krige` chooses the kriging method itself, depending on\n",
    "the information it is provided with: are trend coefficients given? is the trend\n",
    "constant or more complex?"
   ]
  },
  {
   "cell_type": "code",
   "execution_count": null,
   "id": "11bf284e-c02d-4471-9c4d-ada764465214",
   "metadata": {},
   "outputs": [],
   "source": [
    "sk <- tm_shape(lz.sk) + tm_raster(col = \"var1.pred\", style = \"fisher\", title = \"Zinc (predicted)\") +\n",
    "  tm_shape(meuse.sf) + \n",
    "  tm_bubbles(size = \"zinc\", alpha = 0.2) +\n",
    "  tm_layout(main.title = \"Simple Kriging\")\n",
    "\n",
    "ok <- tm_shape(lz.ok) + tm_raster(col = \"var1.pred\", style = \"fisher\", title = \"Zinc (predicted)\") +\n",
    "  tm_shape(meuse.sf) + \n",
    "  tm_bubbles(size = \"zinc\", alpha = 0.2) +\n",
    "  tm_layout(main.title = \"Ordinary Kriging\")\n",
    "\n",
    "uk <- tm_shape(lz.uk) + tm_raster(col = \"var1.pred\", style = \"fisher\", title = \"Zinc (predicted)\") +\n",
    "  tm_shape(meuse.sf) + \n",
    "  tm_bubbles(size = \"zinc\", alpha = 0.2) +\n",
    "  tm_layout(main.title = \"Universal Kriging\")\n",
    "\n",
    "tmap_arrange(sk, ok, uk, nrow = 1)"
   ]
  },
  {
   "cell_type": "markdown",
   "id": "602ab55e-f190-41e7-8dfb-8127d07401cb",
   "metadata": {
    "tags": []
   },
   "source": [
    "<a id=\"Ex3\"></a>\n",
    "### **<span style='color:Green'> Exercise 3: Prediction with Manual Variogram (10 minutes)</span>**   \n",
    "\n",
    "Predict the levels of iron in groundwater throughout the Mesabi Range using\n",
    "\n",
    "1. Inverse Distance Weighting (`p = 2`)\n",
    "2. Ordinary Kriging\n",
    "3. Universal Kriging (covariate = elevation)"
   ]
  },
  {
   "cell_type": "code",
   "execution_count": null,
   "id": "6495437d-118a-40a0-827a-36350654c5d2",
   "metadata": {},
   "outputs": [],
   "source": []
  },
  {
   "cell_type": "markdown",
   "id": "8bb88be1-1a68-4cae-a677-670f14254d73",
   "metadata": {},
   "source": [
    "<details>\n",
    "    \n",
    "<summary><span style='color:Green'> Click to see answer  </span></summary>\n",
    "\n",
    "```r\n",
    "idw <- idw(Iron~1, \n",
    "           mesabiRngWells, \n",
    "           mesabiRngDEM, idp = 2)\n",
    "\n",
    "k.ok <- krige(log(Iron) ~ 1, \n",
    "              mesabiRngWells, \n",
    "              mesabiRngDEM, v.fit)\n",
    "\n",
    "k.uk <- krige(formula = log(Iron) ~ elevation, \n",
    "              mesabiRngWells, \n",
    "              mesabiRngDEM, \n",
    "              model = vt.fit)\n",
    "```\n",
    "----\n",
    "          \n",
    "</details>"
   ]
  },
  {
   "cell_type": "markdown",
   "id": "c9736032-8aa3-441e-9429-fd9dc386c1b7",
   "metadata": {},
   "source": [
    "Create a side-by-side figure of your three maps and compare. An example answer is\n",
    "    shown below, but note that my choice of underlying variogram models may differ from yours."
   ]
  },
  {
   "cell_type": "code",
   "execution_count": null,
   "id": "40656f9e-140b-4ca2-9155-9f59c44cbdf4",
   "metadata": {},
   "outputs": [],
   "source": []
  },
  {
   "cell_type": "markdown",
   "id": "3f80af67-9a32-4cd3-9537-c8a42cac9164",
   "metadata": {},
   "source": [
    "<details>\n",
    "    \n",
    "<summary><span style='color:Green'> Click to see answer  </span></summary>\n",
    "\n",
    "```r\n",
    "idwMap = tm_shape(mesabiRngCnty) + tm_borders() +\n",
    "  tm_shape(mn_adm2) + tm_polygons() +\n",
    "  tm_shape(lakeSup) + tm_polygons(\"skyblue2\") +\n",
    "  tm_shape(idw) + tm_raster(col = \"var1.pred\", style = \"fisher\", \n",
    "                            title = \"Iron (predicted)\") +\n",
    "  tm_shape(mesabiRngWells) + tm_bubbles(size = \"Iron\", alpha = 0.2) +\n",
    "  tm_shape(mesabiRngCnty) + tm_borders() +\n",
    "  tm_layout(main.title = \"IDW Predicted Iron Levels in the \\n Mesabi Range\", \n",
    "            main.title.size = 0.75, \n",
    "            legend.position = c(\"left\",\"top\"), \n",
    "            legend.bg.color = \"white\")\n",
    "\n",
    "okMap <- tm_shape(mesabiRngCnty) + tm_borders() +\n",
    "  tm_shape(mn_adm2) + tm_polygons() +\n",
    "  tm_shape(lakeSup) + tm_polygons(\"skyblue2\") +\n",
    "  tm_shape(k.ok) + tm_raster(col = \"var1.pred\", style = \"fisher\", \n",
    "                             title = \"Iron (predicted)\") +\n",
    "  tm_shape(mesabiRngWells) + tm_bubbles(size = \"Iron\", alpha = 0.2) +\n",
    "  tm_shape(mesabiRngCnty) + tm_borders() +\n",
    "  tm_layout(main.title = \"Ordinary Kriging Predicted Iron \\n Levels in the Mesabi Range\", \n",
    "            main.title.size = 0.75, \n",
    "            legend.position = c(\"left\",\"top\"), \n",
    "            legend.bg.color = \"white\")\n",
    "\n",
    "ukMap <- tm_shape(mesabiRngCnty) + tm_borders() +\n",
    "  tm_shape(mn_adm2) + tm_polygons() +\n",
    "  tm_shape(lakeSup) + tm_polygons(\"skyblue2\") +\n",
    "  tm_shape(k.uk) + tm_raster(col = \"var1.pred\", style = \"fisher\", \n",
    "                             title = \"Iron (predicted)\") +\n",
    "  tm_shape(mesabiRngWells) + tm_bubbles(size = \"Iron\", alpha = 0.2) +\n",
    "  tm_shape(mesabiRngCnty) + tm_borders() +\n",
    "  tm_layout(main.title = \"Universal Kriging Predicted Iron \\n Levels in the Mesabi Range\", \n",
    "            main.title.size = 0.75, \n",
    "            legend.position = c(\"left\",\"top\"), \n",
    "            legend.bg.color = \"white\")\n",
    "\n",
    "tmap_arrange(idwMap, okMap, ukMap, nrow = 1)\n",
    "```\n",
    "----\n",
    "          \n",
    "</details>"
   ]
  },
  {
   "cell_type": "markdown",
   "id": "63adfd99-06e4-43c4-83cf-3654df689c48",
   "metadata": {
    "tags": []
   },
   "source": [
    "<a id=\"Autofit\"></a>\n",
    "## Automatically Fitting Variogram\n",
    "\n",
    "It is not easy to manually fit a variogram model, which is why the `automap` package\n",
    "was created by Paul Hiemstra!\n",
    "\n",
    "This package automatically fits a variogram to the data \n",
    "\n",
    "Fitting is done through the `fit.variogram` function\n",
    "\n",
    "- Normally, in `fit.variogram` user supplies an initial estimate for the sill, range etc. \n",
    "- `automap::autofitVariogram` provides this estimate based on the data and then calls `fit.variogram`"
   ]
  },
  {
   "cell_type": "markdown",
   "id": "a962f011-9290-4b7a-9ebb-dac67f1b3bde",
   "metadata": {
    "tags": []
   },
   "source": [
    "<a id=\"Ex4\"></a>\n",
    "### **<span style='color:Green'> Exercise 4: Prediction with Automatic Variogram (5 minutes)</span>**   \n",
    "\n",
    "1. Using `autofitVariogram` automatically fit your experimental variogram objects for\n",
    "    ordinary (name this `v.fitA`) and universal (name this `vt.fitA`) kriging. \n",
    "    \n",
    "2. Plot your autofit variograms using a simple `plot` command. Compare your autofitted\n",
    "    variograms to your manually fitted variograms."
   ]
  },
  {
   "cell_type": "code",
   "execution_count": null,
   "id": "3813915d-e965-4d46-90a1-bac31bc032d8",
   "metadata": {},
   "outputs": [],
   "source": []
  },
  {
   "cell_type": "markdown",
   "id": "5db52313-4868-4647-ba86-ac3e487dd060",
   "metadata": {},
   "source": [
    "<details>\n",
    "    \n",
    "<summary><span style='color:Green'> Click to see answer  </span></summary>\n",
    "\n",
    "```r\n",
    "library(automap)\n",
    "\n",
    "v.fitA <- autofitVariogram(log(Iron) ~ 1, as(mesabiRngWells, \"Spatial\"))\n",
    "vt.fitA <- autofitVariogram(log(Iron) ~ elevation, as(mesabiRngWells, \"Spatial\"))\n",
    "\n",
    "vModA <- plot(v.fitA)\n",
    "vtModA <- plot(vt.fitA)\n",
    "```\n",
    "----\n",
    "          \n",
    "</details>"
   ]
  },
  {
   "cell_type": "markdown",
   "id": "0086a146-5585-4de5-babd-cc2f95fbecd4",
   "metadata": {},
   "source": [
    "3. Again, predict the levels of iron in groundwater throughout the Mesabi Range using\n",
    "\n",
    "   1. Inverse Distance Weighting (`p = 2`)\n",
    "   2. Ordinary Kriging\n",
    "   3. Universal Kriging (covariate = elevation)"
   ]
  },
  {
   "cell_type": "code",
   "execution_count": null,
   "id": "cfd775e5-c26d-4d87-bbc9-c124e45d1584",
   "metadata": {},
   "outputs": [],
   "source": []
  },
  {
   "cell_type": "markdown",
   "id": "7eadf16d-966c-4b72-b430-a32c305af1f6",
   "metadata": {},
   "source": [
    "<details>\n",
    "    \n",
    "<summary><span style='color:Green'> Click to see answer  </span></summary>\n",
    "\n",
    "```r\n",
    "idwA <- idw(Iron~1, \n",
    "            mesabiRngWells, \n",
    "            mesabiRngDEM, idp = 2)\n",
    "\n",
    "k.okA <- krige(log(Iron) ~ 1, \n",
    "               mesabiRngWells, \n",
    "               mesabiRngDEM, \n",
    "               model = v.fitA$var_model)\n",
    "\n",
    "k.ukA <- krige(formula = log(Iron) ~ elevation, \n",
    "               mesabiRngWells, \n",
    "               mesabiRngDEM, \n",
    "               model = vt.fitA$var_model)\n",
    "\n",
    "```\n",
    "----\n",
    "          \n",
    "</details>"
   ]
  },
  {
   "cell_type": "markdown",
   "id": "025139ca-462d-41a0-93f6-4f151fa3022d",
   "metadata": {},
   "source": [
    "Now use your automatically fitted variograms [Note: you can call the \n",
    "    variogram model from your fitted object using `v.fitA$var_model` or `vt.fitA$var_model`]. \n",
    "    Create a side-by-side figure of your three maps and compare to the maps from exercise 3."
   ]
  },
  {
   "cell_type": "code",
   "execution_count": null,
   "id": "009adc5b-9dc1-4706-bd24-a4f890bd09dd",
   "metadata": {},
   "outputs": [],
   "source": []
  },
  {
   "cell_type": "markdown",
   "id": "b21ffcd7-afff-4ece-9940-ab1e71a0bb62",
   "metadata": {},
   "source": [
    "<details>\n",
    "    \n",
    "<summary><span style='color:Green'> Click to see answer  </span></summary>\n",
    "\n",
    "```r\n",
    "idwMapA = tm_shape(mesabiRngCnty) + tm_borders() +\n",
    "  tm_shape(mn_adm2) + tm_polygons() +\n",
    "  tm_shape(lakeSup) + tm_polygons(\"skyblue2\") +\n",
    "  tm_shape(idwA) + tm_raster(col = \"var1.pred\", style = \"fisher\", \n",
    "                             title = \"Iron (predicted)\") +\n",
    "  tm_shape(mesabiRngWells) + tm_bubbles(size = \"Iron\", alpha = 0.2) +\n",
    "  tm_shape(mesabiRngCnty) + tm_borders() +\n",
    "  tm_layout(main.title = \"IDW Predicted Iron Levels in the \\n Mesabi Range\", \n",
    "            main.title.size = 0.75, \n",
    "            legend.position = c(\"left\",\"top\"), \n",
    "            legend.bg.color = \"white\")\n",
    "\n",
    "okMapA <- tm_shape(mesabiRngCnty) + tm_borders() +\n",
    "  tm_shape(mn_adm2) + tm_polygons() +\n",
    "  tm_shape(lakeSup) + tm_polygons(\"skyblue2\") +\n",
    "  tm_shape(k.okA) + tm_raster(col = \"var1.pred\", style = \"fisher\", \n",
    "                              title = \"Iron (predicted)\") +\n",
    "  tm_shape(mesabiRngWells) + tm_bubbles(size = \"Iron\", alpha = 0.2) +\n",
    "  tm_shape(mesabiRngCnty) + tm_borders() +\n",
    "  tm_layout(main.title = \"Ordinary Kriging Predicted Iron Levels \\n in the Mesabi Range\", \n",
    "            main.title.size = 0.75, \n",
    "            legend.position = c(\"left\",\"top\"), \n",
    "            legend.bg.color = \"white\")\n",
    "\n",
    "ukMapA <- tm_shape(mesabiRngCnty) + tm_borders() +\n",
    "  tm_shape(mn_adm2) + tm_polygons() +\n",
    "  tm_shape(lakeSup) + tm_polygons(\"skyblue2\") +\n",
    "  tm_shape(k.ukA) + tm_raster(col = \"var1.pred\", style = \"fisher\", \n",
    "                              title = \"Iron (predicted)\") +\n",
    "  tm_shape(mesabiRngWells) + tm_bubbles(size = \"Iron\", alpha = 0.2) +\n",
    "  tm_shape(mesabiRngCnty) + tm_borders() +\n",
    "  tm_layout(main.title = \"Universal Kriging Predicted Iron Levels \\n in the Mesabi Range\", \n",
    "            main.title.size = 0.75, \n",
    "            legend.position = c(\"left\",\"top\"), \n",
    "            legend.bg.color = \"white\")\n",
    "\n",
    "tmap_arrange(idwMapA, okMapA, ukMapA, nrow = 1)\n",
    "```\n",
    "----\n",
    "          \n",
    "</details>"
   ]
  }
 ],
 "metadata": {
  "kernelspec": {
   "display_name": "R",
   "language": "R",
   "name": "ir"
  },
  "language_info": {
   "codemirror_mode": "r",
   "file_extension": ".r",
   "mimetype": "text/x-r-source",
   "name": "R",
   "pygments_lexer": "r",
   "version": "4.1.2"
  }
 },
 "nbformat": 4,
 "nbformat_minor": 5
}
